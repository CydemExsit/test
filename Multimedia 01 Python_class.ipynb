{
 "cells": [
  {
   "cell_type": "markdown",
   "metadata": {},
   "source": [
    "# Python 入門\n",
    "\n",
    "資料來源：https://github.com/chengchingwen/Python-Introduction"
   ]
  },
  {
   "cell_type": "markdown",
   "metadata": {},
   "source": [
    "## 基本運算"
   ]
  },
  {
   "cell_type": "code",
   "execution_count": 1,
   "metadata": {},
   "outputs": [
    {
     "data": {
      "text/plain": [
       "3"
      ]
     },
     "execution_count": 1,
     "metadata": {},
     "output_type": "execute_result"
    }
   ],
   "source": [
    "1+2       # 加法"
   ]
  },
  {
   "cell_type": "code",
   "execution_count": null,
   "metadata": {},
   "outputs": [],
   "source": [
    "3-4       # 減法"
   ]
  },
  {
   "cell_type": "code",
   "execution_count": null,
   "metadata": {},
   "outputs": [],
   "source": [
    "5*6       # 乘法"
   ]
  },
  {
   "cell_type": "code",
   "execution_count": null,
   "metadata": {},
   "outputs": [],
   "source": [
    "7/8       # 除法"
   ]
  },
  {
   "cell_type": "code",
   "execution_count": null,
   "metadata": {},
   "outputs": [],
   "source": [
    "7//8      # 除法，無條件捨去到個位數"
   ]
  },
  {
   "cell_type": "code",
   "execution_count": null,
   "metadata": {},
   "outputs": [],
   "source": [
    "10%9      # 取餘數"
   ]
  },
  {
   "cell_type": "code",
   "execution_count": null,
   "metadata": {},
   "outputs": [],
   "source": [
    "2 ** 10   # 指數"
   ]
  },
  {
   "cell_type": "code",
   "execution_count": null,
   "metadata": {},
   "outputs": [],
   "source": [
    "2 ** (1/2)   # 開根號"
   ]
  },
  {
   "cell_type": "code",
   "execution_count": null,
   "metadata": {},
   "outputs": [],
   "source": [
    "1+2j         # 複數 (這裡虛部用 j 表示)"
   ]
  },
  {
   "cell_type": "code",
   "execution_count": null,
   "metadata": {},
   "outputs": [],
   "source": [
    "(1+2j) * (3+4j)    # 複數乘法"
   ]
  },
  {
   "cell_type": "code",
   "execution_count": 2,
   "metadata": {},
   "outputs": [
    {
     "data": {
      "text/plain": [
       "1"
      ]
     },
     "execution_count": 2,
     "metadata": {},
     "output_type": "execute_result"
    }
   ],
   "source": [
    "abs(-1)      # absolute, 絕對值"
   ]
  },
  {
   "cell_type": "code",
   "execution_count": null,
   "metadata": {},
   "outputs": [],
   "source": [
    "abs(1+2j)    # absolute, 絕對值"
   ]
  },
  {
   "cell_type": "code",
   "execution_count": null,
   "metadata": {},
   "outputs": [],
   "source": [
    "import numpy as np\n",
    "np.sqrt(5)"
   ]
  },
  {
   "cell_type": "code",
   "execution_count": null,
   "metadata": {},
   "outputs": [],
   "source": [
    "round(3.1415926, 3)     # 四捨五入到小數點後第 3 位"
   ]
  },
  {
   "cell_type": "code",
   "execution_count": null,
   "metadata": {},
   "outputs": [],
   "source": [
    "round(3.1415926, 4)     # 四捨五入到小數點後第 4 位"
   ]
  },
  {
   "cell_type": "markdown",
   "metadata": {},
   "source": [
    "## <font color=\"Red\"> 1.1 熟能生巧 </font>\n",
    "<font color=\"Red\"> 練習以下狀況    \n",
    "<font color=\"Red\"> 1. 7.23 的 20 次方    \n",
    "<font color=\"Red\"> 2. 虛數 i 的平方    \n",
    "<font color=\"Red\"> 3. 42 的四次方根   \n",
    "<font color=\"Red\"> 補充 : 運算有先後順序，可以用括弧來確保自己想要的順序 "
   ]
  },
  {
   "cell_type": "code",
   "execution_count": null,
   "metadata": {},
   "outputs": [],
   "source": [
    "#------------------- Code Here ------------------------#\n",
    "print(\"7.23 的 20 次方是：\", 7.23 ** 20)\n",
    "i = 1j\n",
    "print(\"虛數 i 的平方：\" , i ** 2)\n",
    "print(\"42 的四次方根：\", 42 ** 0.25)\n",
    "\n",
    "\n",
    "#------------------- Stop Here ------------------------#"
   ]
  },
  {
   "cell_type": "markdown",
   "metadata": {},
   "source": [
    "## <font color=\"Red\"> 1.2 數字的顯示方式  % vs. format  \n",
    "https://kknews.cc/zh-tw/code/qlpq5nb.html    \n",
    "<font color=\"Red\">練習分別使用%與format進行\"7.23 的 3.25 次方\" 之不同顯示方式(顯示小數點以下第5位)   "
   ]
  },
  {
   "cell_type": "code",
   "execution_count": null,
   "metadata": {},
   "outputs": [],
   "source": [
    "print(\"7.23 的 3.25 次方是：\", 7.23**3.25)\n",
    "#------------------- Code Here ------------------------#\n",
    "print(\"7.23 的 3.25 次方是：\", round(7.23**3.25, 5))\n",
    "#------------------- Stop Here ------------------------#"
   ]
  },
  {
   "cell_type": "markdown",
   "metadata": {},
   "source": [
    "## 賦值 (Assign)\n",
    "\n",
    "用 `=` 來給變數內容值"
   ]
  },
  {
   "cell_type": "code",
   "execution_count": null,
   "metadata": {},
   "outputs": [],
   "source": [
    "a = 1\n",
    "b = 1.5\n",
    "c = \"asd\""
   ]
  },
  {
   "cell_type": "markdown",
   "metadata": {},
   "source": [
    "## 型別 (Type)\n",
    "\n",
    "在程式語言中，型別概念上來說就像是物品的種類，例如：「這群是筆，那群是橡皮擦」。\n",
    "\n",
    "\n",
    "## Python 的內建型別 (Built-in Types)\n",
    "\n",
    "* int (整數)\n",
    "* float (浮點數)\n",
    "* complex (複數)\n",
    "* str (字串)\n",
    "* tuple\n",
    "* list\n",
    "* dict\n",
    "* set\n",
    "* ..."
   ]
  },
  {
   "cell_type": "code",
   "execution_count": null,
   "metadata": {
    "scrolled": true
   },
   "outputs": [],
   "source": [
    "type(42)    # 用 type 可以得知型別"
   ]
  },
  {
   "cell_type": "code",
   "execution_count": null,
   "metadata": {},
   "outputs": [],
   "source": [
    "type(3.14159265358979323846)"
   ]
  },
  {
   "cell_type": "code",
   "execution_count": null,
   "metadata": {},
   "outputs": [],
   "source": [
    "a = 7.23**3.25\n",
    "b = 3\n",
    "print(a,b)\n",
    "print(type(a))\n",
    "print(type(b))"
   ]
  },
  {
   "cell_type": "code",
   "execution_count": null,
   "metadata": {},
   "outputs": [],
   "source": [
    "\"測試\"      # str, 字串"
   ]
  },
  {
   "cell_type": "code",
   "execution_count": null,
   "metadata": {},
   "outputs": [],
   "source": [
    "\"\"\"\n",
    "我\n",
    "是\n",
    "多\n",
    "行\n",
    "字\n",
    "串\n",
    "\"\"\"       # 用 3 個 \" 夾起來"
   ]
  },
  {
   "cell_type": "code",
   "execution_count": null,
   "metadata": {},
   "outputs": [],
   "source": [
    "'''\n",
    "我\n",
    "是\n",
    "多\n",
    "行\n",
    "字\n",
    "串\n",
    "'''       # 也可以用 3 個 ' 夾起來"
   ]
  },
  {
   "cell_type": "code",
   "execution_count": null,
   "metadata": {},
   "outputs": [],
   "source": [
    "(42, 'O w O')    # tuple, 可以放入各種東西的大箱子，放完後不能更動"
   ]
  },
  {
   "cell_type": "code",
   "execution_count": null,
   "metadata": {},
   "outputs": [],
   "source": [
    "foo = (42, 'O w O')\n",
    "foo[0]          # subscript operator 可以取出其中的值\n",
    "                 # 注意，index 從 0 開始算"
   ]
  },
  {
   "cell_type": "code",
   "execution_count": null,
   "metadata": {},
   "outputs": [],
   "source": [
    "tu = [42, 'O w O']    # list 和 tuple 相似，但放完後可以更動"
   ]
  },
  {
   "cell_type": "code",
   "execution_count": null,
   "metadata": {},
   "outputs": [],
   "source": [
    "tu[0] = 11"
   ]
  },
  {
   "cell_type": "code",
   "execution_count": null,
   "metadata": {},
   "outputs": [],
   "source": [
    "{'a': 1, 'b': 42}    # dict，冒號左邊的是 key、右邊的是 value，用 key 可以查到 value (想像查字典的狀況)"
   ]
  },
  {
   "cell_type": "code",
   "execution_count": null,
   "metadata": {},
   "outputs": [],
   "source": [
    "d = {'a': 1, 'b': 42}\n",
    "d['b']"
   ]
  },
  {
   "cell_type": "code",
   "execution_count": null,
   "metadata": {},
   "outputs": [],
   "source": [
    "{1, 2, 3, 3, 3}  # set，數學上的集合，裡面的東西不會重複，也沒有順序"
   ]
  },
  {
   "cell_type": "code",
   "execution_count": null,
   "metadata": {},
   "outputs": [],
   "source": [
    "A = {1, 2, 3}\n",
    "B = {1, 2, 4}\n",
    "A | B            # 取聯集"
   ]
  },
  {
   "cell_type": "code",
   "execution_count": null,
   "metadata": {},
   "outputs": [],
   "source": [
    "A & B            # 取交集"
   ]
  },
  {
   "cell_type": "code",
   "execution_count": null,
   "metadata": {},
   "outputs": [],
   "source": [
    "A ^ B            # 取對稱差"
   ]
  },
  {
   "cell_type": "code",
   "execution_count": null,
   "metadata": {},
   "outputs": [],
   "source": [
    "A - B            # 取差集"
   ]
  },
  {
   "cell_type": "markdown",
   "metadata": {},
   "source": [
    "## 真偽值\n",
    "\n",
    "* True/False\n",
    "* `>` `>=` `<` `<=` `==` `!=` `in`\n",
    "* and/or/not\n",
    "* is\n",
    "* 各種 empty 狀況\n",
    "    - 0, 1\n",
    "    - \"\", \"abc\"\n",
    "    - (,), (1, 2)\n",
    "    - [], [1, 2]\n",
    "    - set(), {1, 2}"
   ]
  },
  {
   "cell_type": "code",
   "execution_count": null,
   "metadata": {},
   "outputs": [],
   "source": [
    "True"
   ]
  },
  {
   "cell_type": "code",
   "execution_count": null,
   "metadata": {},
   "outputs": [],
   "source": [
    "False"
   ]
  },
  {
   "cell_type": "code",
   "execution_count": null,
   "metadata": {},
   "outputs": [],
   "source": [
    "3 > 2"
   ]
  },
  {
   "cell_type": "code",
   "execution_count": null,
   "metadata": {},
   "outputs": [],
   "source": [
    "5 <= 1"
   ]
  },
  {
   "cell_type": "code",
   "execution_count": null,
   "metadata": {},
   "outputs": [],
   "source": [
    "1 != 2"
   ]
  },
  {
   "cell_type": "code",
   "execution_count": null,
   "metadata": {},
   "outputs": [],
   "source": [
    "5 in [1, 2, 3, 4, 5]"
   ]
  },
  {
   "cell_type": "code",
   "execution_count": null,
   "metadata": {},
   "outputs": [],
   "source": [
    "bool(0)    # 用 bool 來看各個資料是 True 還是 False"
   ]
  },
  {
   "cell_type": "code",
   "execution_count": null,
   "metadata": {},
   "outputs": [],
   "source": [
    "bool(42)"
   ]
  },
  {
   "cell_type": "code",
   "execution_count": null,
   "metadata": {},
   "outputs": [],
   "source": [
    "bool(\"\"), bool(\"abc\")"
   ]
  },
  {
   "cell_type": "code",
   "execution_count": null,
   "metadata": {},
   "outputs": [],
   "source": [
    "bool(tuple()), bool((1, 2))"
   ]
  },
  {
   "cell_type": "code",
   "execution_count": null,
   "metadata": {},
   "outputs": [],
   "source": [
    "bool([]), bool([1, 2])"
   ]
  },
  {
   "cell_type": "code",
   "execution_count": null,
   "metadata": {},
   "outputs": [],
   "source": [
    "bool(set()), bool({1, 2})"
   ]
  },
  {
   "cell_type": "code",
   "execution_count": null,
   "metadata": {},
   "outputs": [],
   "source": [
    "bool(dict()), bool({'a': 1, 'b': 42})"
   ]
  },
  {
   "cell_type": "markdown",
   "metadata": {},
   "source": [
    "## 流程控制\n",
    "\n",
    "* if ... elif ... else\n",
    "* for ... in ...\n",
    "* break\n",
    "* continue\n",
    "* while ... else ..."
   ]
  },
  {
   "cell_type": "code",
   "execution_count": null,
   "metadata": {},
   "outputs": [],
   "source": [
    "if 3 > 2:\n",
    "    print('Yes')\n",
    "else:\n",
    "    print('No')    # 如果 3 > 2 的話印出 'Yes'，否則印出 'Nooooooo, why can you come here?'\n",
    "                                                 # 注意縮排是有影響的"
   ]
  },
  {
   "cell_type": "code",
   "execution_count": null,
   "metadata": {},
   "outputs": [],
   "source": [
    "if 2 > 3:\n",
    "    print('No')\n",
    "elif 5 > 4:\n",
    "    print('Yes')\n",
    "else:\n",
    "    print('@_@?')    # 如果 2 > 3 的話印出 'No'，要不然 5 > 4 的話就印出 'Yes'，否則印出 '@_@?'"
   ]
  },
  {
   "cell_type": "markdown",
   "metadata": {},
   "source": [
    "## 利用 input 作為使用者輸入介面，使用 int() 將輸入值改為整數"
   ]
  },
  {
   "cell_type": "code",
   "execution_count": null,
   "metadata": {},
   "outputs": [],
   "source": [
    "temperature = int(input(\"請輸入今天的溫度：\"))\n",
    "if temperature >= 28:\n",
    "    print(\"該開冷氣了！\")\n",
    "else:\n",
    "    print(\"吹電風扇就好。\")"
   ]
  },
  {
   "cell_type": "markdown",
   "metadata": {},
   "source": [
    "## 利用 str 將數值改為字串以輸出顯示"
   ]
  },
  {
   "cell_type": "code",
   "execution_count": null,
   "metadata": {},
   "outputs": [],
   "source": [
    "temperature = int(input(\"請輸入今天的溫度：\"))\n",
    "if temperature >= 28:\n",
    "    print(\"今天溫度\"+str(temperature)+\"度，該開冷氣了！\")\n",
    "else:\n",
    "    print(\"今天溫度\"+str(temperature)+\"度，吹電風扇就好。\")"
   ]
  },
  {
   "cell_type": "markdown",
   "metadata": {},
   "source": [
    "## <font color=\"Red\"> 1.3 請增加溫度的判斷，熟能生巧 </font>\n",
    "\n",
    "<font color=\"Red\"> 溫度範圍與顯示字串如下：   \n",
    "<font color=\"Red\"> 1. 今天溫度 >= 28 度，顯示\"今天溫度??度，該開冷氣了！\"    \n",
    "<font color=\"Red\"> 2. 今天溫度介於 20 到 27 度，顯示\"今天溫度??度，吹電風扇就好。\"      \n",
    "<font color=\"Red\"> 3. 今天溫度介於 10 到 19 度，顯示\"今天溫度??度，開窗就可以了。\"      \n",
    "<font color=\"Red\"> 4. 今天溫度 9 度以下，顯示\"今天溫度??度，太冷了，關好窗戶。\"    "
   ]
  },
  {
   "cell_type": "code",
   "execution_count": null,
   "metadata": {},
   "outputs": [
    {
     "name": "stdout",
     "output_type": "stream",
     "text": [
      "今天溫度24度，吹電風扇就好\n"
     ]
    }
   ],
   "source": [
    "temperature = int(input(\"請輸入今天的溫度：\"))\n",
    "#------------------- Code Here ------------------------#\n",
    "if temperature >= 28:\n",
    "    print(\"今天溫度\"+str(temperature)+\"度，該開冷氣了！\")\n",
    "elif temperature <=27 and temperature >= 20:\n",
    "    print(\"今天溫度\"+str(temperature)+\"度，吹電風扇就好\")\n",
    "elif temperature <=19 and temperature >= 10:\n",
    "    print(\"今天溫度\"+str(temperature)+\"度，開窗就可以了。\")\n",
    "elif temperature <=9:\n",
    "    print(\"今天溫度\"+str(temperature)+\"度，太冷了，關好窗戶。\")\n",
    "#------------------- Stop Here ------------------------#    "
   ]
  },
  {
   "cell_type": "markdown",
   "metadata": {},
   "source": [
    "## 常見的數字計算"
   ]
  },
  {
   "cell_type": "code",
   "execution_count": null,
   "metadata": {},
   "outputs": [],
   "source": [
    "a = 5.5\n",
    "b = 3.2\n",
    "c = a+b\n",
    "d = a-b\n",
    "e = a*b\n",
    "f = a/b\n",
    "print(\"a = %.2f, b = %.2f, c = a+b = %.2f\"%(a,b,c))\n",
    "print(\"a = %.2f, b = %.2f, d = a-b = %.2f\"%(a,b,d))\n",
    "print(\"a = %.2f, b = %.2f, e = a*b = %.2f\"%(a,b,e))\n",
    "print(\"a = %.2f, b = %.2f, f = a/b = %.2f\"%(a,b,f))"
   ]
  },
  {
   "cell_type": "markdown",
   "metadata": {},
   "source": [
    "## <font color=\"Red\"> 1.4 BMI 計算\n",
    "<font color=\"Red\"> 讓使用者可以自行輸入身高、體重，接著計算 BMI 值，並輸出小數點以下兩位的格式\n",
    "<img src=https://health99.hpa.gov.tw/img/exam/bmi_form.png width=\"200\">"
   ]
  },
  {
   "cell_type": "code",
   "execution_count": null,
   "metadata": {},
   "outputs": [],
   "source": [
    "height = int(input(\"請輸入你的身高(cm)：\"))\n",
    "weight = int(input(\"請輸入你的體重(kg)：\"))\n",
    "#------------------- Code Here ------------------------#\n",
    "bmi = weight / (height/100)**2\n",
    "print(\"你的BMI數值為：\", bmi)\n",
    "#------------------- Stop Here ------------------------#    "
   ]
  },
  {
   "cell_type": "markdown",
   "metadata": {},
   "source": [
    "## for 迴圈"
   ]
  },
  {
   "cell_type": "code",
   "execution_count": null,
   "metadata": {},
   "outputs": [],
   "source": [
    "for i in [1, 2, 3, 4]:    # i 會依序變成 1, 2, 3, 4 來執行下面 block 的程式，在這邊則是會被印出來\n",
    "    print(i)"
   ]
  },
  {
   "cell_type": "code",
   "execution_count": null,
   "metadata": {},
   "outputs": [],
   "source": [
    "for i in [1, 2, 3, 4]:\n",
    "    if i == 3:\n",
    "        break    # 使用 break 來提早離開，當 i 變成 3 時就離開這個 for loop\n",
    "    print(i)"
   ]
  },
  {
   "cell_type": "code",
   "execution_count": null,
   "metadata": {
    "scrolled": true
   },
   "outputs": [],
   "source": [
    "for i in [1, 2, 3, 4]:\n",
    "    print(i)\n",
    "else:\n",
    "    print('End')    # 如果前面的 for 成功跑完的話會執行這段"
   ]
  },
  {
   "cell_type": "code",
   "execution_count": null,
   "metadata": {},
   "outputs": [],
   "source": [
    "for i in [1, 2, 3, 4]:\n",
    "    if i == 3:\n",
    "        break\n",
    "    print(i)\n",
    "else:\n",
    "    print('End')    # 如果前面的 for 成功跑完的話會執行這段"
   ]
  },
  {
   "cell_type": "code",
   "execution_count": null,
   "metadata": {},
   "outputs": [],
   "source": [
    "for i in [1, 2, 3, 4]:\n",
    "    if i == 3:\n",
    "        continue    # continue 可以跳過這次後面的 code，進入下一輪\n",
    "    print(i)\n",
    "else:\n",
    "    print('End')    # 如果前面的 for 成功跑完的話會執行這段"
   ]
  },
  {
   "cell_type": "markdown",
   "metadata": {},
   "source": [
    "## <font color=\"Red\"> 1.5 使用 for 迴圈計算 [1, 2, 3, 4, 6, 7]的數值總和</font>"
   ]
  },
  {
   "cell_type": "code",
   "execution_count": null,
   "metadata": {},
   "outputs": [],
   "source": [
    "sum = 0\n",
    "#------------------- Code Here ------------------------#\n",
    "for i in range(8):\n",
    "    if i==5:\n",
    "        continue\n",
    "    sum = sum + i\n",
    "#------------------- Stop Here ------------------------#    \n",
    "print(\"總和為:\"+str(sum))    "
   ]
  },
  {
   "cell_type": "markdown",
   "metadata": {},
   "source": [
    "## while 迴圈"
   ]
  },
  {
   "cell_type": "code",
   "execution_count": null,
   "metadata": {},
   "outputs": [],
   "source": [
    "i = 4\n",
    "while i > 0:   # 當 while 後面接的條件一直符合時就會繼續執行\n",
    "    print(i)\n",
    "    i = i - 1"
   ]
  },
  {
   "cell_type": "code",
   "execution_count": null,
   "metadata": {},
   "outputs": [],
   "source": [
    "i = 4\n",
    "while i > 0:   \n",
    "    print(i)\n",
    "    i = i - 1\n",
    "else:\n",
    "    print('End')"
   ]
  },
  {
   "cell_type": "code",
   "execution_count": null,
   "metadata": {},
   "outputs": [],
   "source": [
    "i = 4\n",
    "while i > 0:   \n",
    "    if i == 3:\n",
    "        break\n",
    "    print(i)\n",
    "    i = i - 1\n",
    "else:\n",
    "    print('End')"
   ]
  },
  {
   "cell_type": "markdown",
   "metadata": {},
   "source": [
    "## <font color=\"Red\"> 1.6 使用while計算小於等於40的偶數和"
   ]
  },
  {
   "cell_type": "code",
   "execution_count": 3,
   "metadata": {},
   "outputs": [
    {
     "name": "stdout",
     "output_type": "stream",
     "text": [
      "40\n",
      "78\n",
      "114\n",
      "148\n",
      "180\n",
      "210\n",
      "238\n",
      "264\n",
      "288\n",
      "310\n",
      "330\n",
      "348\n",
      "364\n",
      "378\n",
      "390\n",
      "400\n",
      "408\n",
      "414\n",
      "418\n",
      "420\n",
      "小於等於40的偶數和:420\n"
     ]
    }
   ],
   "source": [
    "i = 40\n",
    "sum = 0;\n",
    "#------------------- Code Here ------------------------#\n",
    "while i > 0:\n",
    "    if i%2==0:\n",
    "        sum = sum + i\n",
    "        print(sum)\n",
    "    i = i - 1\n",
    "#------------------- Stop Here ------------------------#    \n",
    "print(\"小於等於40的偶數和:\"+str(sum))        "
   ]
  },
  {
   "cell_type": "markdown",
   "metadata": {},
   "source": [
    "## <font color=\"Red\"> 1.7 使用while計算小於等於200的 3 或 5 的倍數和"
   ]
  },
  {
   "cell_type": "code",
   "execution_count": null,
   "metadata": {},
   "outputs": [],
   "source": [
    "#Method 1 (使用 if 和 elif)\n",
    "i = 200\n",
    "sum = 0;\n",
    "#------------------- Code Here ------------------------#\n",
    "\n",
    "#------------------- Stop Here ------------------------#    \n",
    "print(\"小於等於200的 3 或 5 的倍數和:\"+str(sum))   "
   ]
  },
  {
   "cell_type": "code",
   "execution_count": null,
   "metadata": {},
   "outputs": [],
   "source": [
    "#Method 2 (僅使用一個 if)\n",
    "i = 200\n",
    "sum = 0;\n",
    "#------------------- Code Here ------------------------#\n",
    "while i > 0:\n",
    "    if i%3==0 or i%5==0:\n",
    "        sum = sum + i\n",
    "    i = i - 1\n",
    "#------------------- Stop Here ------------------------#    \n",
    "print(\"小於等於200的 3 或 5 的倍數和:\"+str(sum))   "
   ]
  },
  {
   "cell_type": "markdown",
   "metadata": {},
   "source": [
    "## 更多字串操作\n",
    "\n",
    "* string formatting\n",
    "* 字串串接\n",
    "* slice : `start:stop[:step]`"
   ]
  },
  {
   "cell_type": "code",
   "execution_count": null,
   "metadata": {},
   "outputs": [],
   "source": [
    "'{} | {}'.format(1, 2)    # 用 {} 表示要留著填空，後面用 .format 傳入要填進去的值"
   ]
  },
  {
   "cell_type": "code",
   "execution_count": null,
   "metadata": {},
   "outputs": [],
   "source": [
    "'~ {} ~'.format([1, 2, 3, 4])"
   ]
  },
  {
   "cell_type": "code",
   "execution_count": null,
   "metadata": {},
   "outputs": [],
   "source": [
    "'上上下下' + '左右左右' + 'BA'    # 用 + 可以把字串接起來"
   ]
  },
  {
   "cell_type": "code",
   "execution_count": null,
   "metadata": {},
   "outputs": [],
   "source": [
    "s = 'abcdefghijklmnopqrstuvwxyz'"
   ]
  },
  {
   "cell_type": "code",
   "execution_count": null,
   "metadata": {},
   "outputs": [],
   "source": [
    "s[0]"
   ]
  },
  {
   "cell_type": "code",
   "execution_count": null,
   "metadata": {},
   "outputs": [],
   "source": [
    "s[1:4]    # index 1 到 index 3 (index 4 結束)"
   ]
  },
  {
   "cell_type": "code",
   "execution_count": null,
   "metadata": {},
   "outputs": [],
   "source": [
    "s[-1]     # 負的 index 會倒回去"
   ]
  },
  {
   "cell_type": "code",
   "execution_count": null,
   "metadata": {},
   "outputs": [],
   "source": [
    "s[1:8:2]  # index 1 到 index 7，每次跳兩步"
   ]
  },
  {
   "cell_type": "code",
   "execution_count": null,
   "metadata": {},
   "outputs": [],
   "source": [
    "s[-1:-9:-2]"
   ]
  },
  {
   "cell_type": "code",
   "execution_count": null,
   "metadata": {},
   "outputs": [],
   "source": [
    "s[::-1]   # 顛倒，不指定的話會自動帶入值"
   ]
  },
  {
   "cell_type": "markdown",
   "metadata": {},
   "source": [
    "## Function\n",
    "\n",
    "一些常用的 code 會寫成 function，之後要使用時直接呼叫就可以了"
   ]
  },
  {
   "cell_type": "code",
   "execution_count": null,
   "metadata": {
    "scrolled": true
   },
   "outputs": [],
   "source": [
    "def hello():          \n",
    "    print('Hello ~')\n",
    "\n",
    "hello()   "
   ]
  },
  {
   "cell_type": "code",
   "execution_count": null,
   "metadata": {},
   "outputs": [],
   "source": [
    "def f_42():\n",
    "    return 42    # 用 return 來回傳資料\n",
    "\n",
    "x = f_42()\n",
    "print(x)"
   ]
  },
  {
   "cell_type": "code",
   "execution_count": 4,
   "metadata": {},
   "outputs": [
    {
     "name": "stdout",
     "output_type": "stream",
     "text": [
      "13 15\n"
     ]
    }
   ],
   "source": [
    "def f(a, b=3):   # a 和 b 是參數，b 預設是 3\n",
    "    return a+b\n",
    "\n",
    "x = f(10)\n",
    "y = f(10, 5)\n",
    "print(x, y)"
   ]
  },
  {
   "cell_type": "markdown",
   "metadata": {},
   "source": [
    "## <font color=\"Red\"> 1.8 函數練習</font>\n",
    "<font color=\"Red\">撰寫函數 test(a,b)，計算傳入兩個數a和b的平均值</font>"
   ]
  },
  {
   "cell_type": "code",
   "execution_count": 5,
   "metadata": {},
   "outputs": [
    {
     "name": "stdout",
     "output_type": "stream",
     "text": [
      "5.5\n"
     ]
    }
   ],
   "source": [
    "#------------------- Code Here ------------------------#\n",
    "def test(a,b):\n",
    "    return (a+b)/2\n",
    "#------------------- Stop Here ------------------------#\n",
    "r = test(4,7)\n",
    "print(r)"
   ]
  },
  {
   "cell_type": "markdown",
   "metadata": {},
   "source": [
    "## <font color=\"Red\"> 1.9 函數練習</font>\n",
    "<font color=\"Red\">撰寫函數 test2(a)，計算傳入串列a中所有值的平均 <p>\n",
    "例如：a=[1, 2, 3, 4]</font>"
   ]
  },
  {
   "cell_type": "code",
   "execution_count": 1,
   "metadata": {},
   "outputs": [
    {
     "name": "stdout",
     "output_type": "stream",
     "text": [
      "2.5\n"
     ]
    }
   ],
   "source": [
    "#------------------- Code Here ------------------------#\n",
    "def test2(lst):\n",
    "    return sum(lst)/len(lst)\n",
    "#------------------- Stop Here ------------------------#\n",
    "r = test2([1, 2, 3, 4])\n",
    "print(r)"
   ]
  },
  {
   "cell_type": "markdown",
   "metadata": {},
   "source": [
    "# <font color=\"Red\"> 1.10 函數練習</font>\n",
    "<font color=\"Red\">撰寫函數 test3(a)，計算傳入串列a中所有值的平均值(Mean)與變異數(Variance)，再利用串列方式回傳 <p>\n",
    "例如：a=[1, 2, 3, 4]</font>\n",
    "\n",
    "<img src=\"https://images.squarespace-cdn.com/content/v1/533db07de4b0d9f7ba7f1e77/1552186395207-9OQVIKUBI0G3TJPEJJ7R/summary+table+of+mean%2C+variance%2C+and+standard+deviation+formulas?format=1500w%22\"  width=\"700\">"
   ]
  },
  {
   "cell_type": "code",
   "execution_count": null,
   "metadata": {},
   "outputs": [],
   "source": [
    "#------------------- Code Here ------------------------#\n",
    "\n",
    "#------------------- Stop Here ------------------------#\n",
    "ans = test3([1, 2, 3, 4])\n",
    "print(ans)"
   ]
  },
  {
   "cell_type": "markdown",
   "metadata": {},
   "source": [
    "## <font color=\"Red\"> 1.11 設計一個程式，輸入一個整數n，並在函式calSquare中計算1到n之間所有數字的平方和。¶"
   ]
  },
  {
   "cell_type": "code",
   "execution_count": null,
   "metadata": {},
   "outputs": [],
   "source": [
    "#------------------- Code Here ------------------------#\n",
    "  \n",
    "#------------------- Code Here ------------------------#    \n",
    "number = int(input(\"請輸入一個數字\"))\n",
    "cal_number = calSquare(number)\n",
    "print(\"1到n之間所有數字平方和為\"+str(cal_number))"
   ]
  },
  {
   "cell_type": "markdown",
   "metadata": {},
   "source": [
    "## <font color=\"Red\"> 1.12 設計一個程式，輸入兩個整數a和b，並在函式calSquare5中計算a到b之間5的倍數的平方和。¶"
   ]
  },
  {
   "cell_type": "code",
   "execution_count": null,
   "metadata": {},
   "outputs": [],
   "source": [
    "#------------------- Code Here ------------------------#\n",
    "   \n",
    "#------------------- Code Here ------------------------#    \n",
    "a = int(input(\"請輸入第一個數字\"))\n",
    "b = int(input(\"請輸入第二個數字\"))\n",
    "cal_number = calSquare5(a,b)\n",
    "print(str(a)+\"到\"+str(b)+\"之間所有數字平方和為\"+str(cal_number))"
   ]
  },
  {
   "cell_type": "markdown",
   "metadata": {},
   "source": [
    "## <font color=\"Red\"> 1.13 寫一個程式，輸入一個整數n，並在函式checkPrime中判斷n是不是質數。"
   ]
  },
  {
   "cell_type": "code",
   "execution_count": null,
   "metadata": {},
   "outputs": [],
   "source": [
    "#------------------- Code Here ------------------------#\n",
    " \n",
    "#------------------- Code Here ------------------------#    \n",
    "number = int(input(\"請輸入一個數字\"))\n",
    "isPrime = checkPrime(number)\n",
    "print(\"數字\"+str(number)+\"是質數嗎？\"+isPrime)\n"
   ]
  }
 ],
 "metadata": {
  "kernelspec": {
   "display_name": "Python 3 (ipykernel)",
   "language": "python",
   "name": "python3"
  },
  "language_info": {
   "codemirror_mode": {
    "name": "ipython",
    "version": 3
   },
   "file_extension": ".py",
   "mimetype": "text/x-python",
   "name": "python",
   "nbconvert_exporter": "python",
   "pygments_lexer": "ipython3",
   "version": "3.9.5"
  },
  "vscode": {
   "interpreter": {
    "hash": "4a21fb89d7acdcbc187d6daa0adba9419ef6cc26ef54b9ed4cc02b7ad6aba4af"
   }
  }
 },
 "nbformat": 4,
 "nbformat_minor": 4
}
